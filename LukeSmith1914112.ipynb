{
  "nbformat": 4,
  "nbformat_minor": 0,
  "metadata": {
    "colab": {
      "provenance": []
    },
    "kernelspec": {
      "name": "python3",
      "display_name": "Python 3"
    },
    "language_info": {
      "name": "python"
    }
  },
  "cells": [
    {
      "cell_type": "markdown",
      "source": [
        "### CM4107 Advanced Artifical Intelligence\n"
      ],
      "metadata": {
        "id": "4RhG9PMgPlQd"
      }
    },
    {
      "cell_type": "markdown",
      "source": [
        "# Section 1 - Dataset"
      ],
      "metadata": {
        "id": "48mq-eCCKVcv"
      }
    },
    {
      "cell_type": "markdown",
      "source": [
        "The dataset used is the zeroshot/twitter-financial-news-sentiment, this hosts over 9000 Twitter tweets related to financial news.\n",
        "\n",
        "The tweets are organized into three labels, bearish(negative), bullish(positive), or neutral. The goal in this report is text classification, to correctly classify the tweets. NLP will be useful for this task as every tweet is directly stating positive, negative, or neutral statements casually, so Natural Language Processing techniques are particularly suited for this task.\n",
        "\n",
        "This dataset was useful as it was also completely in English, not requiring any translation or language filtering.\n",
        "\n",
        "The dataset was acquired and loaded through Huggingface here:\n",
        "\n",
        "https://huggingface.co/datasets/zeroshot/twitter-financial-news-sentiment."
      ],
      "metadata": {
        "id": "ujvweA2J9Sa6"
      }
    },
    {
      "cell_type": "code",
      "execution_count": 2,
      "metadata": {
        "id": "fFgKKwTqKSiz",
        "colab": {
          "base_uri": "https://localhost:8080/"
        },
        "outputId": "0256785a-b35a-4124-e856-b6ff3220dbca"
      },
      "outputs": [
        {
          "output_type": "stream",
          "name": "stderr",
          "text": [
            "/usr/local/lib/python3.10/dist-packages/huggingface_hub/utils/_auth.py:94: UserWarning: \n",
            "The secret `HF_TOKEN` does not exist in your Colab secrets.\n",
            "To authenticate with the Hugging Face Hub, create a token in your settings tab (https://huggingface.co/settings/tokens), set it as secret in your Google Colab and restart your session.\n",
            "You will be able to reuse this secret in all of your notebooks.\n",
            "Please note that authentication is recommended but still optional to access public models or datasets.\n",
            "  warnings.warn(\n"
          ]
        }
      ],
      "source": [
        "import pandas as pd\n",
        "import io\n",
        "from google.colab import files\n",
        "from google.colab import userdata\n",
        "userdata.get('huggingface')\n",
        "\n",
        "splits = {'train': 'sent_train.csv', 'validation': 'sent_valid.csv'}\n",
        "df = pd.read_csv(\"hf://datasets/zeroshot/twitter-financial-news-sentiment/\" + splits[\"train\"])"
      ]
    },
    {
      "cell_type": "code",
      "source": [
        "print(df)"
      ],
      "metadata": {
        "colab": {
          "base_uri": "https://localhost:8080/"
        },
        "id": "5Lnhp7qSNLBB",
        "outputId": "48eaae29-316f-4da1-e317-a0f8ac019cd2"
      },
      "execution_count": 3,
      "outputs": [
        {
          "output_type": "stream",
          "name": "stdout",
          "text": [
            "                                                   text  label\n",
            "0     $BYND - JPMorgan reels in expectations on Beyo...      0\n",
            "1     $CCL $RCL - Nomura points to bookings weakness...      0\n",
            "2     $CX - Cemex cut at Credit Suisse, J.P. Morgan ...      0\n",
            "3     $ESS: BTIG Research cuts to Neutral https://t....      0\n",
            "4     $FNKO - Funko slides after Piper Jaffray PT cu...      0\n",
            "...                                                 ...    ...\n",
            "9538  The Week's Gainers and Losers on the Stoxx Eur...      2\n",
            "9539  Tupperware Brands among consumer gainers; Unil...      2\n",
            "9540  vTv Therapeutics leads healthcare gainers; Myo...      2\n",
            "9541    WORK, XPO, PYX and AMKR among after hour movers      2\n",
            "9542             YNDX, I, QD and OESX among tech movers      2\n",
            "\n",
            "[9543 rows x 2 columns]\n"
          ]
        }
      ]
    },
    {
      "cell_type": "code",
      "source": [
        "import numpy as np\n",
        "\n",
        "x = df[['text']].to_numpy()\n",
        "y = df['label'].to_numpy()\n",
        "\n",
        "print(x[0])\n",
        "print(x[1])\n",
        "print(y[0])"
      ],
      "metadata": {
        "colab": {
          "base_uri": "https://localhost:8080/"
        },
        "id": "YPY2_d1XbFY_",
        "outputId": "ccab1755-23b1-4c03-9e20-7d11c5d9c469"
      },
      "execution_count": 4,
      "outputs": [
        {
          "output_type": "stream",
          "name": "stdout",
          "text": [
            "['$BYND - JPMorgan reels in expectations on Beyond Meat https://t.co/bd0xbFGjkT']\n",
            "['$CCL $RCL - Nomura points to bookings weakness at Carnival and Royal Caribbean https://t.co/yGjpT2ReD3']\n",
            "0\n"
          ]
        }
      ]
    },
    {
      "cell_type": "code",
      "source": [
        "import nltk\n",
        "import re\n",
        "nltk.download('punkt')\n",
        "nltk.download('punkt_tab')\n",
        "nltk.download('stopwords')\n",
        "nltk.download('wordnet')\n",
        "from nltk.tokenize import word_tokenize\n",
        "from nltk.corpus import stopwords\n",
        "from nltk.stem.snowball import SnowballStemmer\n",
        "from nltk.stem import WordNetLemmatizer\n",
        "\n",
        "lemmatizer = WordNetLemmatizer()\n",
        "stemmer = SnowballStemmer(\"english\")\n",
        "\n",
        "def prep(X):\n",
        "      prep_text = []\n",
        "      for x in X:\n",
        "\n",
        "            decoded_text = x[0].decode('utf-8') if isinstance(x[0], bytes) else x[0]\n",
        "\n",
        "            remove_URLS = re.sub(r'http\\S+', '', decoded_text)\n",
        "\n",
        "            token_text = word_tokenize(remove_URLS)\n",
        "\n",
        "            normd_text = [token.lower() for token in token_text]\n",
        "\n",
        "            stopword_text = [token for token in normd_text if token not in stopwords.words('english')]\n",
        "\n",
        "            #prep_text += [[lemmatizer.lemmatize(word) for word in stopword_text]]\n",
        "            prep_text += [[stemmer.stem(word) for word in stopword_text]]\n",
        "\n",
        "            prep_sentences = [\" \".join(sentence) for sentence in prep_text]\n",
        "\n",
        "      return prep_sentences\n",
        "\n",
        "prep_x = prep(x)\n",
        "print(prep_x[0])"
      ],
      "metadata": {
        "colab": {
          "base_uri": "https://localhost:8080/"
        },
        "id": "Dbjr3myKT-eP",
        "outputId": "d99dadf3-8249-4a1a-f1e2-be59116f8d96"
      },
      "execution_count": 13,
      "outputs": [
        {
          "output_type": "stream",
          "name": "stderr",
          "text": [
            "[nltk_data] Downloading package punkt to /root/nltk_data...\n",
            "[nltk_data]   Package punkt is already up-to-date!\n",
            "[nltk_data] Downloading package punkt_tab to /root/nltk_data...\n",
            "[nltk_data]   Package punkt_tab is already up-to-date!\n",
            "[nltk_data] Downloading package stopwords to /root/nltk_data...\n",
            "[nltk_data]   Package stopwords is already up-to-date!\n",
            "[nltk_data] Downloading package wordnet to /root/nltk_data...\n",
            "[nltk_data]   Package wordnet is already up-to-date!\n"
          ]
        },
        {
          "output_type": "stream",
          "name": "stdout",
          "text": [
            "$ bynd - jpmorgan reel expect beyond meat\n"
          ]
        }
      ]
    },
    {
      "cell_type": "markdown",
      "source": [
        "# Section 2 - Representation Learning"
      ],
      "metadata": {
        "id": "-oEAwgAFKmub"
      }
    },
    {
      "cell_type": "markdown",
      "source": [
        "Word2Vec was utilised in this task due to reliability in capturing the relationships between words unlike other text vectorization techniques which simply look at word frequency. Word2Vec uses either continuous bag of words (CBOW) or continuously sliding skip-gram, with CBOW using the words in the context window to predict which word should come next in the context, versus continuously sliding skip-gram which uses the current word to predict the current window.\n",
        "\n",
        "Word2Vec then vectorizes the words so that semantically similar words are closer together and dissimilar words are farther apart.\n",
        "\n",
        "This is useful for this dataset as different but semantically similar words will often appear in different tweets such as \"profit\" and \"gain\". Word2Vec would use the context of these words to better vectorize the dataset.\n",
        "\n",
        "As well, Word2Vec is especially suited for informal words and financial jargon as Word2Vec would embed the words aware of the context surrounding them."
      ],
      "metadata": {
        "id": "pRED9HGqJB1Q"
      }
    },
    {
      "cell_type": "code",
      "source": [
        "from gensim.models import Word2Vec\n",
        "\n",
        "def word2vec_rep(sentence, w2v_model):\n",
        "  embs = [w2v_model.wv[word] for word in sentence if word in w2v_model.wv.index_to_key]\n",
        "\n",
        "  if len(embs) == 0:\n",
        "    return np.zeros(w2v_model.vector_size)\n",
        "\n",
        "  sent_emb = np.mean(np.array(embs), 0)\n",
        "\n",
        "  return sent_emb\n"
      ],
      "metadata": {
        "id": "nSompAIBasHy"
      },
      "execution_count": 6,
      "outputs": []
    },
    {
      "cell_type": "markdown",
      "source": [
        "#Section 3 - Algorithms\n",
        "\n",
        "##Multi-Layer Perceptron (MLP)\n",
        "Multi-Layer Perceptron (MLP) is a type of neural network consisting of input, hidden, and output layers, hence the name multi-layer. The purpose is to model the relationships between the inputs and outputs. Using interconnected nodes connecting the input nodes to one or more hidden layers with weights and biases determining the strength and direction of the connections.\n",
        "\n",
        "The goal of training an MLP is to maximize the accuracy through adjusting the weights and biases which is achieved through backpropagation. This involves updating the weights and biases with respect to the loss function to get a better result.\n",
        "\n",
        "##Multinomial Naive Bayes\n",
        "Multinomial Naive Bayes is an algorithm based on the Bayes' theorem. It is popular with text classification tasks. Naive Bayes is naïve as it assumes each feature is independent of one another.\n",
        "\n",
        "Multinomial Naive Bayes is a classifier created to calculate the probability distribution of text-data by calculating the count and frequency of features.\n",
        "\n",
        "This makes MultinominalNB well-suited to the chosen dataset as well as its efficiency which sped up classification.\n",
        "\n",
        "##Logistic regression\n",
        "Logistic Regression is an algorithm used for classification, despite the name. It classifys the input through the sigmoid function, this takes the input and creates a probablilty between 0 and 1, if this value is above the threshold (usually 0.5) it is in class 1 if below, class 0.\n",
        "\n",
        "For this task, there are three classes, so multinomial logistic regression was used, this allows three or more unordered types.\n",
        "\n",
        "\n",
        "##Random Forest\n",
        "Random forest is an algorithm with many uses including classification. Random forest are suited for large complex datasets which doesn't describe the chosen dataset especially well.\n",
        "\n",
        "I chose this dataset as the previous algorithms all resulted in similar results and adding random forest could maybe offer some insight into why.\n",
        "\n",
        "Random forest uses a set of decision trees created from training data to vote on the predictions."
      ],
      "metadata": {
        "id": "Nnknt4bQKtDu"
      }
    },
    {
      "cell_type": "code",
      "source": [
        "import numpy as np\n",
        "from sklearn.neighbors import KNeighborsClassifier\n",
        "from sklearn.neural_network import MLPClassifier\n",
        "from sklearn.model_selection import StratifiedKFold\n",
        "from sklearn.naive_bayes import MultinomialNB\n",
        "from sklearn.metrics import accuracy_score\n",
        "from sklearn.preprocessing import MinMaxScaler\n",
        "from sklearn.datasets import load_iris\n",
        "from sklearn.linear_model import LogisticRegression\n",
        "from sklearn.ensemble import RandomForestClassifier\n",
        "from sklearn.datasets import make_classification\n",
        "\n",
        "#knn_score = []\n",
        "mlp_score = []\n",
        "nb_score = []\n",
        "lr_score = []\n",
        "rf_score = []\n",
        "\n",
        "kf = StratifiedKFold(n_splits=5)\n",
        "prepn_x = np.array(prep_x)\n",
        "\n",
        "for train, test in kf.split(prepn_x,y):\n",
        "\n",
        "  x_train, x_test, y_train, y_test = prepn_x[train], prepn_x[test], y[train], y[test]\n",
        "\n",
        "  #print(x_train[0])\n",
        "  test_x_train = [word_tokenize(sentence) for sentence in x_train]\n",
        "  #print(test_x_train[0])\n",
        "\n",
        "  w2v_model = Word2Vec(vector_size=300, window=5, min_count=3, workers=4)\n",
        "  w2v_model.build_vocab(test_x_train, update=None)\n",
        "  w2v_model.train(corpus_iterable=test_x_train, total_examples=len(test_x_train), epochs=10)\n",
        "\n",
        "  x_train_representations = [word2vec_rep(instance, w2v_model) for instance in x_train]\n",
        "  x_test_representations = [word2vec_rep(instance, w2v_model) for instance in x_test]\n",
        "\n",
        "  scaler = MinMaxScaler()\n",
        "\n",
        "  x_train_representations = scaler.fit_transform(x_train_representations)\n",
        "  x_test_representations = scaler.transform(x_test_representations)\n",
        "\n",
        "  #kNN = KNeighborsClassifier(n_neighbors=3)\n",
        "  #kNN.fit(x_train_representations, y_train)\n",
        "  #knn_predictions = kNN.predict(x_test_representations)\n",
        "  #knn_acc = accuracy_score(knn_predictions, y_test)\n",
        "  #knn_score.append(knn_acc)\n",
        "\n",
        "  nb = MultinomialNB(alpha=1)\n",
        "  nb.fit(x_train_representations, y_train)\n",
        "  nb_predictions = nb.predict(x_test_representations)\n",
        "  nb_acc = accuracy_score(nb_predictions, y_test)\n",
        "  nb_score.append(nb_acc)\n",
        "\n",
        "  mlp = MLPClassifier(alpha=1, max_iter=128)\n",
        "  mlp.fit(x_train_representations, y_train)\n",
        "  mlp_predictions = mlp.predict(x_test_representations)\n",
        "  mlp_acc = accuracy_score(mlp_predictions, y_test)\n",
        "  mlp_score.append(mlp_acc)\n",
        "\n",
        "  lr = LogisticRegression(random_state=2, max_iter=500).fit(x_train_representations, y_train)\n",
        "  lr_predictions = lr.predict(x_test_representations)\n",
        "  lr_acc = accuracy_score(lr_predictions, y_test)\n",
        "  lr_score.append(lr_acc)\n",
        "\n",
        "  rf = RandomForestClassifier(max_depth=2, random_state=0)\n",
        "  rf.fit(x_train_representations, y_train)\n",
        "  rf_predictions = rf.predict(x_test_representations)\n",
        "  rf_acc = accuracy_score(rf_predictions, y_test)\n",
        "  rf_score.append(rf_acc)\n",
        "\n",
        "#print(\"kNN Accuracy:\", np.mean(knn_score))\n",
        "print(\"NB Accuracy:\", np.mean(nb_score))\n",
        "print(\"MLP Accuracy:\", np.mean(mlp_score))\n",
        "print(\"LR Accuracy\", np.mean(lr_score))\n",
        "print(\"RF Accuracy\", np.mean(rf_score))"
      ],
      "metadata": {
        "colab": {
          "base_uri": "https://localhost:8080/"
        },
        "id": "azEqj20_a12V",
        "outputId": "495e6ffb-ff30-4815-8422-55b99f5beba4"
      },
      "execution_count": 14,
      "outputs": [
        {
          "output_type": "stream",
          "name": "stdout",
          "text": [
            "NB Accuracy: 0.6442411154050163\n",
            "MLP Accuracy: 0.640259918536602\n",
            "LR Accuracy 0.6516803884940913\n",
            "RF Accuracy 0.6382701711961326\n"
          ]
        }
      ]
    },
    {
      "cell_type": "markdown",
      "source": [
        "#Section 4 - Evaluation"
      ],
      "metadata": {
        "id": "TwbUlNSPKxCz"
      }
    },
    {
      "cell_type": "markdown",
      "source": [
        "The results below show how four algorithms had very similar results. This could be for a variety of reasons.\n",
        "\n",
        "It could be that the algorithms were not the right fit. I don't believe this could be the case as some algorithms used a very dissimilar to others, so results would have greater difference if that was the case.\n",
        "\n",
        "It could be over-fitting with preprocessing. I thoroughly tested this and editing the preprocessing done with no result to the accuracy.\n",
        "\n",
        "It could be a result of the dataset. The dataset contains tweets which contains much informal language and slang which can make sentiment classification challenging."
      ],
      "metadata": {
        "id": "qpfVvjeyenmh"
      }
    },
    {
      "cell_type": "code",
      "source": [
        "import matplotlib as plt\n",
        "\n",
        "comparison = []\n",
        "#comparison.append(knn_score)\n",
        "comparison.append(nb_score)\n",
        "comparison.append(mlp_score)\n",
        "comparison.append(lr_score)\n",
        "comparison.append(rf_score)\n",
        "\n",
        "fig, ax2 = plt.pyplot.subplots()\n",
        "ax2.set_title('Algorithm Comparison')\n",
        "ax2.boxplot(comparison)\n",
        "ax2.set_xticklabels(['nb', 'mlp', 'lr', 'rf'], rotation='vertical')"
      ],
      "metadata": {
        "id": "DVPRJYRWykox",
        "colab": {
          "base_uri": "https://localhost:8080/",
          "height": 481
        },
        "outputId": "66ee5570-08c8-44e6-cd99-21305f7e17bc"
      },
      "execution_count": 15,
      "outputs": [
        {
          "output_type": "execute_result",
          "data": {
            "text/plain": [
              "[Text(1, 0, 'nb'), Text(2, 0, 'mlp'), Text(3, 0, 'lr'), Text(4, 0, 'rf')]"
            ]
          },
          "metadata": {},
          "execution_count": 15
        },
        {
          "output_type": "display_data",
          "data": {
            "text/plain": [
              "<Figure size 640x480 with 1 Axes>"
            ],
            "image/png": "[encoded data removed]"
          },
          "metadata": {}
        }
      ]
    }
  ]
}